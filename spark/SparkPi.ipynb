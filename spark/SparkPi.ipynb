{
 "cells": [
  {
   "cell_type": "code",
   "execution_count": 3,
   "metadata": {},
   "outputs": [],
   "source": [
    "import org.apache.spark.sql._\n",
    "\n",
    "val spark = SparkSession.builder().appName(\"SparkPi\").getOrCreate()\n",
    "      \n",
    "import spark.implicits._"
   ]
  },
  {
   "cell_type": "code",
   "execution_count": 6,
   "metadata": {},
   "outputs": [
    {
     "name": "stdout",
     "output_type": "stream",
     "text": [
      "Pi is roughly 3.1449357246786236\n"
     ]
    }
   ],
   "source": [
    "import scala.math.random\n",
    "\n",
    "val slices = 2\n",
    "val n = math.min(100000L * slices, Int.MaxValue).toInt // avoid overflow\n",
    "val count = spark.sparkContext.parallelize(1 until n, slices).map { i =>\n",
    "      val x = random * 2 - 1\n",
    "      val y = random * 2 - 1\n",
    "      if (x*x + y*y <= 1) 1 else 0\n",
    "    }.reduce(_ + _)\n",
    "println(\"Pi is roughly \" + 4.0 * count / (n - 1))"
   ]
  },
  {
   "cell_type": "code",
   "execution_count": 7,
   "metadata": {},
   "outputs": [],
   "source": [
    "spark.stop()"
   ]
  },
  {
   "cell_type": "code",
   "execution_count": null,
   "metadata": {},
   "outputs": [],
   "source": []
  }
 ],
 "metadata": {
  "kernelspec": {
   "display_name": "apache_toree - Scala",
   "language": "scala",
   "name": "apache_toree_scala"
  },
  "language_info": {
   "name": "scala",
   "version": "2.11.8"
  }
 },
 "nbformat": 4,
 "nbformat_minor": 2
}
